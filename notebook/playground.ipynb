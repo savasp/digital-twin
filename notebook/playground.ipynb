{
 "cells": [
  {
   "cell_type": "markdown",
   "metadata": {},
   "source": [
    "## Load savas.me web pages"
   ]
  },
  {
   "cell_type": "code",
   "execution_count": null,
   "metadata": {},
   "outputs": [],
   "source": [
    "from langchain_community.document_loaders import WebBaseLoader\n",
    "\n",
    "# Load the savas.me/about web page\n",
    "loader = WebBaseLoader([\"https://savas.me\", \"https://savas.me/about\", \"https://savas.me/cv\", \"https://savas.me/contact\", \"https://savas.me/publications\"])\n",
    "docs = loader.load()"
   ]
  },
  {
   "cell_type": "markdown",
   "metadata": {},
   "source": [
    "## Load LinkedIn profile data from csv files"
   ]
  },
  {
   "cell_type": "code",
   "execution_count": null,
   "metadata": {},
   "outputs": [],
   "source": [
    "import glob\n",
    "\n",
    "from langchain_community.document_loaders import CSVLoader\n",
    "\n",
    "docs = []\n",
    "for file in glob.glob(\"../savas/*.csv\"):\n",
    "    loader = CSVLoader(\n",
    "        file_path = file,\n",
    "        encoding=\"utf-8\",\n",
    "        csv_args={'delimiter': ','})\n",
    "    docs += loader.load()"
   ]
  },
  {
   "cell_type": "markdown",
   "metadata": {},
   "source": [
    "## Load the json docs"
   ]
  },
  {
   "cell_type": "code",
   "execution_count": null,
   "metadata": {},
   "outputs": [],
   "source": [
    "import glob\n",
    "\n",
    "from langchain_community.document_loaders import JSONLoader\n",
    "\n",
    "docs = []\n",
    "#for file in glob.glob(\"savas/*.json\"):\n",
    "filenames = [\"../savas/Profile.json\", \"../savas/Positions.json\", \"../savas/Education.json\", \"../savas/Email Addresses.json\"]\n",
    "for file in filenames:\n",
    "    loader = JSONLoader(file_path=file, jq_schema=\".[]\",text_content=False)\n",
    "    docs += loader.load()"
   ]
  },
  {
   "cell_type": "markdown",
   "metadata": {},
   "source": [
    "## Set up the LLM"
   ]
  },
  {
   "cell_type": "code",
   "execution_count": null,
   "metadata": {},
   "outputs": [],
   "source": [
    "system_template = \"\"\"\n",
    "You are Savas Parastatidis.\n",
    "You always respond in the first person as if all the questions were about Savas.\n",
    "Use one sentence answers when possible. Be brief.\n",
    "It is ok to say \"I don't know\" if you don't know the answer.\n",
    "Only use information that you find in the context.\n",
    "For example, if you are asked for Savas' email address, look into the context for the answer.\n",
    "If you can't find it there, then say \"I don't know\".\n",
    "\"\"\"\n",
    "\n",
    "prompt_template =\"\"\"\n",
    "<context>\n",
    "{context}\n",
    "</context>\n",
    "\n",
    "Question: {input}\n",
    "\"\"\"\n",
    "                  \n",
    "model = \"digital_twin\"\n",
    "\n",
    "from os import system\n",
    "from typing import Any, Dict, List\n",
    "from langchain.callbacks.base import BaseCallbackHandler\n",
    "from langchain.llms import Ollama\n",
    "from langchain.prompts import PromptTemplate\n",
    "\n",
    "class MyPromptHandler(BaseCallbackHandler):\n",
    "    def on_llm_start(self, serialized: Dict[str, Any], prompts: List[str], **kwargs: Any) -> Any:\n",
    "        print(prompts)\n",
    "\n",
    "prompt_handler = MyPromptHandler()\n",
    "\n",
    "prompt = PromptTemplate(template=prompt_template, input_variables=[\"context\", \"input\"])\n",
    "\n",
    "llm = Ollama(model=model, callbacks=[prompt_handler])"
   ]
  },
  {
   "cell_type": "markdown",
   "metadata": {},
   "source": [
    "## Set up a retrieval-based chain with a vector db"
   ]
  },
  {
   "cell_type": "code",
   "execution_count": null,
   "metadata": {},
   "outputs": [],
   "source": [
    "from langchain.chains.combine_documents import create_stuff_documents_chain\n",
    "from langchain_community.embeddings import OllamaEmbeddings\n",
    "from langchain_community.vectorstores import FAISS\n",
    "from langchain.text_splitter import RecursiveCharacterTextSplitter\n",
    "\n",
    "embeddings = OllamaEmbeddings(model = \"mistral\")\n",
    "text_splitter = RecursiveCharacterTextSplitter()\n",
    "documents = text_splitter.split_documents(docs)\n",
    "vector = FAISS.from_documents(documents, embeddings)\n",
    "doc_chain = create_stuff_documents_chain(llm, prompt)\n",
    "\n",
    "# set up retrieval\n",
    "from langchain.chains import create_retrieval_chain\n",
    "\n",
    "retriever = vector.as_retriever()\n",
    "\n",
    "chain = create_retrieval_chain(retriever, doc_chain)\n"
   ]
  },
  {
   "cell_type": "markdown",
   "metadata": {},
   "source": [
    "## Set up a chain with direct context"
   ]
  },
  {
   "cell_type": "code",
   "execution_count": null,
   "metadata": {},
   "outputs": [],
   "source": [
    "from langchain.chains.combine_documents import create_stuff_documents_chain\n",
    "\n",
    "chain = create_stuff_documents_chain(llm, prompt)"
   ]
  },
  {
   "cell_type": "code",
   "execution_count": null,
   "metadata": {},
   "outputs": [],
   "source": [
    "questions = [\n",
    "    \"What is your current job?\",\n",
    "    \"What is your email address?\",\n",
    "    \"What is your phone number?\",\n",
    "    \"What is your date of birth?\",\n",
    "    \"When did you work at microsoft?\",\n",
    "    \"What is your last name?\",\n",
    "    \"Where do you work now?\",\n",
    "    \"What do you currently do at Meta?\",\n",
    "    \"How can I contact you?\",\n",
    "    \n",
    "    # Microsoft copilot-generated questions (prompt: \"list 10 questions that you would ask to a person about their professional life\")\n",
    "    \"What is your current role and how long have you been in this position?\",\n",
    "    \"Can you describe a typical day at work for you?\",\n",
    "    \"What motivated you to choose your current career path?\",\n",
    "    \"What are the most rewarding aspects of your job?\",\n",
    "    \"What challenges have you faced in your profession and how did you overcome them?\",\n",
    "    \"How do you stay updated with the trends and changes in your industry?\",\n",
    "    \"Can you share a significant achievement or project you’ve worked on?\",\n",
    "    \"How do you balance your professional and personal life?\",\n",
    "    \"Where do you see yourself in the next five years professionally?\",\n",
    "    \"What advice would you give to someone starting out in your field?\",\n",
    "    \n",
    "    # Microsoft copilot-generated questions (prompt: \"list 10 questions that you would ask a person about their professional profile on LinkedIn\")\n",
    "    \"How does your LinkedIn headline reflect your current professional role?\",\n",
    "    \"What key skills and endorsements can be found on your profile?\",\n",
    "    \"Can you walk me through your work experience as listed on LinkedIn?\",\n",
    "    \"How do you approach networking and building connections on LinkedIn?\",\n",
    "    \"What type of content do you typically share or engage with on LinkedIn?\",\n",
    "    \"How has LinkedIn helped you in your professional development?\",\n",
    "    \"What strategies do you use to make your LinkedIn profile stand out?\",\n",
    "    \"Have you received any recommendations on LinkedIn, and what do they say about your work ethic and professional contributions?\",\n",
    "    \"How do you utilize LinkedIn’s features, such as groups or LinkedIn Learning, for career growth?\",\n",
    "    \"What advice would you give to someone optimizing their LinkedIn profile for job searching or networking?\",\n",
    "    \n",
    "    # Microsoft copilot-generated questions (prompt: \"list 10 questions that you would expect a person to answer based on information found in their CV or LinkedIn profile\")\n",
    "    \"What are your main skills and qualifications for the position you are applying for?\",\n",
    "    \"How do you measure your performance and achievements in your previous or current roles?\",\n",
    "    \"What are some of the projects or tasks that you are most proud of and why?\",\n",
    "    \"How do you approach problem-solving and decision-making in your work?\",\n",
    "    \"How do you communicate and collaborate with others in your team or organization?\",\n",
    "    \"How do you handle feedback and criticism in your work?\",\n",
    "    \"How do you balance competing priorities and manage your time effectively?\",\n",
    "    \"What are some of the professional goals that you have set for yourself and how are you pursuing them?\",\n",
    "    \"What are some of the challenges or difficulties that you have faced or overcome in your work?\",\n",
    "    \"How do you cope with stress and pressure in your work environment?\",\n",
    "]"
   ]
  },
  {
   "cell_type": "code",
   "execution_count": null,
   "metadata": {},
   "outputs": [],
   "source": [
    "# retrieval-based\n",
    "from typing import Any, List, Dict\n",
    "for q in questions[0:10]:\n",
    "    response = chain.invoke({\"input\": q})\n",
    "    print(q)\n",
    "    print(response[\"answer\"])\n",
    "    print()"
   ]
  },
  {
   "cell_type": "code",
   "execution_count": null,
   "metadata": {},
   "outputs": [],
   "source": [
    "from langchain_core.output_parsers import StrOutputParser\n",
    "\n",
    "chain = create_stuff_documents_chain(llm, prompt, output_parser=StrOutputParser())\n",
    "\n",
    "# in-context-based\n",
    "for q in questions:\n",
    "    response = chain.invoke({\"input\": q, \"context\": docs})\n",
    "    print(q)\n",
    "    print(response)\n",
    "    print()"
   ]
  }
 ],
 "metadata": {
  "kernelspec": {
   "display_name": "Python 3",
   "language": "python",
   "name": "python3"
  },
  "language_info": {
   "codemirror_mode": {
    "name": "ipython",
    "version": 3
   },
   "file_extension": ".py",
   "mimetype": "text/x-python",
   "name": "python",
   "nbconvert_exporter": "python",
   "pygments_lexer": "ipython3",
   "version": "3.11.7"
  }
 },
 "nbformat": 4,
 "nbformat_minor": 2
}
